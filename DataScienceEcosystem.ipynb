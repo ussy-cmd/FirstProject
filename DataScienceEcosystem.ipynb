{
 "cells": [
  {
   "cell_type": "markdown",
   "id": "eda42293-9ae0-49e6-bc47-1894ecdeb116",
   "metadata": {},
   "source": [
    "# In this notebook, Data Science Tools and Ecosystem are summarized."
   ]
  },
  {
   "cell_type": "markdown",
   "id": "e9877542-428b-4f9e-b91b-f8de046dc898",
   "metadata": {},
   "source": [
    "**Objectives**                    \n",
    "**.Python**                             \n",
    "**.SQL**                             \n",
    "**.R**                  \n",
    "**.Jupyter Notebook**"
   ]
  },
  {
   "cell_type": "markdown",
   "id": "c4459a99-7a9f-4e6a-85eb-815f4e44ff43",
   "metadata": {},
   "source": [
    "# Some of the popular languages that Data Scientists use are\n",
    "1. Python\n",
    "2. R\n",
    "3. Julia"
   ]
  },
  {
   "cell_type": "markdown",
   "id": "b072fc3f-15ab-4b21-b8cf-8dca5fb4826c",
   "metadata": {},
   "source": [
    "# Some of the commonly used libraries used by Data Scientists include:\n",
    "1. NumPy\n",
    "2. Pandas\n",
    "3. Matplotlib"
   ]
  },
  {
   "cell_type": "markdown",
   "id": "f7e5cd23-7821-466c-9a57-6d15ca51e673",
   "metadata": {},
   "source": [
    "|Data SCience Tools|\n",
    "|------------------|\n",
    "|RStudio|\n",
    "|Jupyter Notebook|\n",
    "|SQL|\n",
    "|Anaconda|"
   ]
  },
  {
   "cell_type": "markdown",
   "id": "f33ba8cb-7b0e-47ac-b3f2-4d0e72fddec0",
   "metadata": {},
   "source": [
    "### Below are a few examples of evaluating arithmetic expressions in Python\n"
   ]
  },
  {
   "cell_type": "markdown",
   "id": "fd724f19-2b68-449a-97a0-98ae80be091f",
   "metadata": {},
   "source": [
    "# This a simple arithmetic expression to mutiply then add integers.\n"
   ]
  },
  {
   "cell_type": "code",
   "execution_count": 4,
   "id": "d406b093-f61c-4a1d-a38e-5e2f5289ef76",
   "metadata": {
    "tags": []
   },
   "outputs": [
    {
     "name": "stdout",
     "output_type": "stream",
     "text": [
      "17\n"
     ]
    }
   ],
   "source": [
    "x = (3*4)+5\n",
    "print(x)"
   ]
  },
  {
   "cell_type": "markdown",
   "id": "a3fce76c-a5e9-40ca-be7b-f6511cafa635",
   "metadata": {},
   "source": [
    "# This will convert 200 minutes to hours by diving by 60."
   ]
  },
  {
   "cell_type": "code",
   "execution_count": 6,
   "id": "d072efba-a4e8-4d5d-a339-70d7908084a1",
   "metadata": {
    "tags": []
   },
   "outputs": [],
   "source": [
    "m = 200"
   ]
  },
  {
   "cell_type": "code",
   "execution_count": 7,
   "id": "90ec09d8-6cb0-4b27-aa01-5ddd918626d6",
   "metadata": {
    "tags": []
   },
   "outputs": [],
   "source": [
    "h = m/60"
   ]
  },
  {
   "cell_type": "code",
   "execution_count": 8,
   "id": "7134fd2d-36cb-42c8-9a37-98ca8c624ebf",
   "metadata": {
    "tags": []
   },
   "outputs": [
    {
     "name": "stdout",
     "output_type": "stream",
     "text": [
      "3.3333333333333335\n"
     ]
    }
   ],
   "source": [
    "print (h)"
   ]
  },
  {
   "cell_type": "markdown",
   "id": "e95502bd-8475-4e06-8bd1-8580a10231ed",
   "metadata": {},
   "source": [
    "## Author"
   ]
  },
  {
   "cell_type": "markdown",
   "id": "cdc00a51-839d-4ec0-8cfb-199bbcb7b113",
   "metadata": {},
   "source": [
    "Usman Sule"
   ]
  },
  {
   "cell_type": "code",
   "execution_count": null,
   "id": "fe041193-aa6a-46d9-8ba4-f32a28c91e0f",
   "metadata": {},
   "outputs": [],
   "source": []
  }
 ],
 "metadata": {
  "kernelspec": {
   "display_name": "Python",
   "language": "python",
   "name": "conda-env-python-py"
  },
  "language_info": {
   "codemirror_mode": {
    "name": "ipython",
    "version": 3
   },
   "file_extension": ".py",
   "mimetype": "text/x-python",
   "name": "python",
   "nbconvert_exporter": "python",
   "pygments_lexer": "ipython3",
   "version": "3.7.12"
  }
 },
 "nbformat": 4,
 "nbformat_minor": 5
}
